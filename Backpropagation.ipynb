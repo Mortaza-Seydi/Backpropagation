{
  "nbformat": 4,
  "nbformat_minor": 0,
  "metadata": {
    "colab": {
      "name": "Backpropagation.ipynb",
      "provenance": [],
      "include_colab_link": true
    },
    "language_info": {
      "name": "python"
    },
    "kernelspec": {
      "name": "python3",
      "display_name": "Python 3"
    }
  },
  "cells": [
    {
      "cell_type": "markdown",
      "metadata": {
        "id": "view-in-github",
        "colab_type": "text"
      },
      "source": [
        "<a href=\"https://colab.research.google.com/github/Mortaza-Seydi/Backpropagation/blob/main/Backpropagation.ipynb\" target=\"_parent\"><img src=\"https://colab.research.google.com/assets/colab-badge.svg\" alt=\"Open In Colab\"/></a>"
      ]
    },
    {
      "cell_type": "markdown",
      "metadata": {
        "id": "gCbD_LeJnqhN"
      },
      "source": [
        "# Morteza Seydi\n",
        "## Backpropagation Algorithm Implementation Python "
      ]
    },
    {
      "cell_type": "markdown",
      "metadata": {
        "id": "0sOKnilMnqhP"
      },
      "source": [
        "### Imports:\n",
        "\n",
        "\n",
        "*   numpy : for matrix multiplication and traverse\n",
        "*   matplotlib : for showing images and graphs "
      ]
    },
    {
      "cell_type": "code",
      "metadata": {
        "id": "vWUvCyAQnqhR"
      },
      "source": [
        "import numpy as np\n",
        "import matplotlib.pyplot as plot \n",
        "import matplotlib.pylab as plt\n",
        "from math import sqrt"
      ],
      "execution_count": 18,
      "outputs": []
    },
    {
      "cell_type": "markdown",
      "metadata": {
        "id": "OjHFw0oSnqhT"
      },
      "source": [
        "## Backpropagation\n",
        "### step 1 : _feedforward\n",
        "*   <font size=4px>$L = $number of layers<br>$a^{0} = $ input<br>$a^{L} = $ final output</font><br><br>\n",
        "*   <font color=red size=4px>$n^{i+1} = W^{i+1}.a^i + b^{i+1}$</font><br><br>\n",
        "*   <font color=yellow size=4px>$a^{i+1} = F^{i+1}(n^{i+1})$</font><br><br>\n",
        "*   $i = 1, ..., L-1$<br>\n",
        "\n",
        "### step 2 : _backpropagation\n",
        "*   <font size=4px>$e = t - a^{L}$</font><br>\n",
        "*   <font color=orange size=4px>$F = e ^ 2$</font><br><br>\n",
        "*   <font color=yellow size=4px>$\\delta^{L} = -2 .\\hat F^{L} (n^{L}) .e$</font><br>\n",
        "*   <font color=red size=4px>$\\delta^{i} = \\hat F^{i} (n^{i}) .(W ^ {i+1}) ^ T. \\delta ^{i+1}$</font><br><br>\n",
        "*   <font color=pink size=4px>$\\Delta W = \\delta ^ {i}(k) (a ^ {i-1}) ^ T$</font><br>\n",
        "*   <font color=pink size=4px>$\\Delta B = \\delta ^ {i}$</font><br><br>\n",
        "\n",
        "*   $i = L-1, ..., 1$<br>\n",
        "\n",
        "### step 3 : _update_weight_bias\n",
        "\n",
        "*   <font color=yellow size=4px>$w ^ {i} (k+1) = w ^ {i} (k) - \\alpha \\delta ^ {i}(k) (a ^ {i-1}) ^ T = w ^ {i} (k) - \\alpha \\Delta W$</font><br><br>\n",
        "*   <font color=red size=4px>$b ^ {i} (k+1) = b ^ {i} (k) - \\alpha \\delta ^ {i}(k) = b ^ {i} (k) - \\alpha \\Delta B$</font><br><br>\n",
        "*   $i = 1, ..., L$<br>"
      ]
    },
    {
      "cell_type": "markdown",
      "metadata": {
        "id": "Nm8KyW-QnqhV"
      },
      "source": [
        "\n",
        "## Weight Initialization\n",
        "\n",
        "1. Normalized Xavier (sigmoid, tanh)\n",
        "\n",
        "### ${weight} = U[-\\frac{\\sqrt 6}{\\sqrt{n + m}}, \\frac{\\sqrt 6}{\\sqrt{n + m}}]$\n",
        "\n",
        "2. Menhaj\n",
        "\n",
        "### ${weight} = U[-\\frac{3}{\\sqrt{m}}, \\frac{3}{\\sqrt{m}}]$\n",
        "\n",
        "$U$ : uniform distribution<br>\n",
        "$n$: number of nodes in the previous layer<br>\n",
        "$m$: number of nodes in the this layer"
      ]
    },
    {
      "cell_type": "code",
      "metadata": {
        "id": "xYNWtl7wnqhW"
      },
      "source": [
        "class NeuralNetwork:\n",
        "    \"\"\"\n",
        "    Neural network class\n",
        "\n",
        "    define your fully connected network easily \n",
        "    and train it for your dataset.\n",
        "    \"\"\"\n",
        "\n",
        "    def __init__(self, structure, activations):\n",
        "        \"\"\"\n",
        "        Object initialization\n",
        "\n",
        "        :param structure: define your layers as a list of number of nodes, [n_inputs, hidden_layers, n_output]\n",
        "                Example : [20, 10, 10, 5]\n",
        "\n",
        "        :param activations: activation function for each layer. len(activations) = len(layers) - 1\n",
        "                Example ['sig', 'sig', 'tanh']\n",
        "        \"\"\"\n",
        "\n",
        "        self.activations = activations\n",
        "\n",
        "        self.weights = []\n",
        "        self.biases = []\n",
        "\n",
        "        # weight initialization\n",
        "        for i in range(len(structure) - 1):\n",
        "            if self.activations[i] == 'sig' or self.activations[i] == 'tanh':\n",
        "                # Normalized Xavier\n",
        "                value = sqrt(6.0) / sqrt(structure[i] + structure[i + 1])\n",
        "\n",
        "            else:\n",
        "                # Menhaj\n",
        "                value = 3 / sqrt(structure[i + 1])\n",
        "\n",
        "            # generate random numbers\n",
        "            self.weights.append(np.random.uniform(low=(-1 * value), high=value, size=(structure[i + 1], structure[i])))\n",
        "            self.biases.append(np.random.uniform(low=(-1 * value), high=value, size=(structure[i + 1], 1)))\n",
        "\n",
        "            print(f\"layer {i} : W = {self.weights[i].shape} B = {self.biases[i].shape}\")\n",
        "\n",
        "        # define activation functions as lambda\n",
        "        self.sig = lambda x: 1 / (1 + np.exp(-1 * x))\n",
        "        self.tanh = lambda x: (np.exp(2 * x) - 1) / (np.exp(2 * x) + 1)\n",
        "        self.linear = lambda x: x\n",
        "        self.relu = lambda x: x if x >= 0 else 0\n",
        "\n",
        "    def learn(self, inputs, labels, epochs=100, learning_rate=0.01):\n",
        "        \"\"\"\n",
        "        Train neural network\n",
        "\n",
        "        :param inputs: list of your datas. this MUST be a python list, NOT numpy array or anything else.\n",
        "                Example : [ [data 1] , [data 2] ]\n",
        "        :param labels: list of your labeks. this MUST be a python list, NOT numpy array or anything else.\n",
        "                Example : [ [label for data 1] , [label for data 2] ]\n",
        "        :param epochs: number of training iterations\n",
        "        :param learning_rate: the learning rate\n",
        "\n",
        "        :return loss: list of losses at every epoch\n",
        "        \"\"\"\n",
        "\n",
        "        loss = []\n",
        "        for e in range(1, epochs + 1):\n",
        "            epoch_loss = []\n",
        "\n",
        "            for x, y in zip(inputs, labels):\n",
        "                \n",
        "                # labels preprocess \n",
        "                Y = np.array(y)\n",
        "                Y = Y.reshape(Y.shape[0], 1)\n",
        "\n",
        "                # inputs preprocess \n",
        "                X = np.array(x)\n",
        "                X = X.reshape(X.flatten().shape[0], 1)\n",
        "\n",
        "                # step 1\n",
        "                nets, actuals = self._feedforward(X)\n",
        "\n",
        "                # step 2\n",
        "                delta_weights, delta_biases = self._backpropagation(Y, nets, actuals)\n",
        "\n",
        "                # step 3\n",
        "                self._update_weight_bias(learning_rate, delta_weights, delta_biases)\n",
        "\n",
        "                # calculate loss in every iteration\n",
        "                epoch_loss.append(np.linalg.norm(actuals[-1] - Y))\n",
        "\n",
        "            # epoch loss is average of all losses in epoch.\n",
        "            avg = np.average(epoch_loss)\n",
        "            loss.append(avg)\n",
        "\n",
        "            if e % 10 == 0: print(f'epoch {e} - loss = {avg}')\n",
        "\n",
        "        print(f'final loss : {loss[-1]}')\n",
        "        return loss\n",
        "\n",
        "    def _feedforward(self, x):\n",
        "        \"\"\"\n",
        "        Calculate the output of neural network\n",
        "\n",
        "        :param x: input data to the network\n",
        "\n",
        "        :return nets: the list of net outputs of neurons in every layer\n",
        "        :return actuals: the list of actual outputs of neurons in every layer after applying activations.\n",
        "        \"\"\"\n",
        "\n",
        "        a = x\n",
        "        nets = []\n",
        "        actuals = [a]\n",
        "\n",
        "        for i in range(len(self.weights)):\n",
        "            n = self.weights[i].dot(a) + self.biases[i]\n",
        "            nets.append(n)\n",
        "\n",
        "            a = self.activation_function(self.activations[i], n)\n",
        "            actuals.append(a)\n",
        "\n",
        "        return nets, actuals\n",
        "\n",
        "    def _backpropagation(self, desireds, nets, actuals):\n",
        "        \"\"\"\n",
        "        Backpropagating errors to the network\n",
        "\n",
        "        :param desireds: desired output known as labels.\n",
        "        :param nets: the list of net outputs of neurons in every layer\n",
        "        :param actuals: the list of actual outputs of neurons in every layer after applying activations.\n",
        "\n",
        "        :return delta_weights: used for update weights\n",
        "        :return delta_biases: used for update biases\n",
        "\n",
        "        \"\"\"\n",
        "\n",
        "        deltas = [0] * len(self.weights)\n",
        "\n",
        "        # calculate the last layer error (delta)\n",
        "        deltas[-1] = -2 * self.derivative_activation_function(self.activations[-1], nets[-1]) * (desireds - actuals[-1])\n",
        "\n",
        "        # BackPropagation, calculate the delta for every layer\n",
        "        for i in reversed(range(len(deltas) - 1)):\n",
        "            deltas[i] = self.derivative_activation_function(self.activations[i], nets[i]) * self.weights[i + 1].T.dot(deltas[i + 1])\n",
        "\n",
        "        delta_weights = [d.dot(actuals[i].T) for i, d in enumerate(deltas)]\n",
        "        delta_biases = deltas\n",
        "\n",
        "        return delta_weights, delta_biases\n",
        "\n",
        "    def _update_weight_bias(self, learning_rate, delta_weights, delta_biases):\n",
        "        \"\"\"\n",
        "        Update weights and biases\n",
        "\n",
        "        :param learning_rate: the learning rate\n",
        "        :param delta_weights: used for update weights\n",
        "        :param delta_biases: used for update biases\n",
        "        \"\"\"\n",
        "\n",
        "        self.weights = [w - learning_rate * dw for w, dw in zip(self.weights, delta_weights)]\n",
        "        self.biases = [w - learning_rate * db for w, db in zip(self.biases, delta_biases)]\n",
        "\n",
        "    def activation_function(self, name, value):\n",
        "        \"\"\"\n",
        "        Apply activation functions\n",
        "\n",
        "        :param name: name of function\n",
        "        :param value: value\n",
        "\n",
        "        :return new value after applying activation\n",
        "        \"\"\"\n",
        "\n",
        "        if name == 'sig':\n",
        "            return self.sig(value)\n",
        "\n",
        "        elif name == 'tanh':\n",
        "            return self.tanh(value)\n",
        "\n",
        "        elif name == 'linear':\n",
        "            return self.linear(value)\n",
        "\n",
        "        elif name == 'relu':\n",
        "            return self.relu(value)\n",
        "\n",
        "        else:\n",
        "            # unknown activation function\n",
        "            return self.linear(value)\n",
        "\n",
        "    def derivative_activation_function(self, name, value):\n",
        "        \"\"\"\n",
        "        Apply derivative of activation functions\n",
        "\n",
        "        :param name: name of function\n",
        "        :param value: value\n",
        "\n",
        "        :return new value after applying derivative of activation\n",
        "        \"\"\"\n",
        "\n",
        "        if name == 'sig':\n",
        "            d_sig = self.sig(value) * (1 - self.sig(value))\n",
        "            return d_sig\n",
        "\n",
        "        elif name == 'tanh':\n",
        "            d_tanh = 1 - np.power(self.tanh(value), 2)\n",
        "            return d_tanh\n",
        "\n",
        "        elif name == 'linear':\n",
        "            return 1\n",
        "\n",
        "        elif name == 'relu':\n",
        "            if value >= 0:\n",
        "                return 1\n",
        "\n",
        "            return 0\n",
        "\n",
        "        else:\n",
        "            # unknown\n",
        "            return 1\n",
        "\n",
        "    def predict(self, x):\n",
        "        \"\"\"\n",
        "        Calculate the output of neural network, just like feedforward with two differences: \n",
        "            1. here we need to preprocess input \n",
        "            2. we just return a final output of network\n",
        "\n",
        "        :param x: input data\n",
        "\n",
        "        :return a: output of network\n",
        "        \"\"\"\n",
        "\n",
        "        a = np.array(x)\n",
        "        a = a.reshape(a.flatten().shape[0], 1)\n",
        "\n",
        "        for i in range(len(self.weights)):\n",
        "            n = self.weights[i].dot(a) + self.biases[i]\n",
        "            a = self.activation_function(self.activations[i], n)\n",
        "\n",
        "        return a"
      ],
      "execution_count": 19,
      "outputs": []
    },
    {
      "cell_type": "markdown",
      "metadata": {
        "id": "BHyk74z6nqhi"
      },
      "source": [
        "### Example 1 : Hex Detection"
      ]
    },
    {
      "cell_type": "code",
      "metadata": {
        "id": "mCeFsGt8nqhl"
      },
      "source": [
        "X = [\n",
        "    [\n",
        "        [0, 1, 1, 1, 1, 1, 1, 0],\n",
        "        [1, 0, 0, 0, 0, 0, 0, 1],\n",
        "        [1, 0, 0, 0, 0, 0, 0, 1],\n",
        "        [1, 0, 0, 0, 0, 0, 0, 1],\n",
        "        [1, 0, 0, 0, 0, 0, 0, 1],\n",
        "        [1, 0, 0, 0, 0, 0, 0, 1],\n",
        "        [1, 0, 0, 0, 0, 0, 0, 1],\n",
        "        [0, 1, 1, 1, 1, 1, 1, 0],\n",
        "    ],\n",
        "    [\n",
        "        [0, 0, 0, 0, 1, 0, 0, 0],\n",
        "        [0, 0, 0, 1, 1, 0, 0, 0],\n",
        "        [0, 0, 1, 0, 1, 0, 0, 0],\n",
        "        [0, 0, 0, 0, 1, 0, 0, 0],\n",
        "        [0, 0, 0, 0, 1, 0, 0, 0],\n",
        "        [0, 0, 0, 0, 1, 0, 0, 0],\n",
        "        [0, 0, 0, 0, 1, 0, 0, 0],\n",
        "        [0, 1, 1, 1, 1, 1, 1, 0],\n",
        "    ],\n",
        "    [\n",
        "        [0, 1, 1, 1, 1, 1, 0, 0],\n",
        "        [1, 0, 0, 0, 0, 0, 1, 0],\n",
        "        [0, 0, 0, 0, 0, 0, 1, 0],\n",
        "        [0, 0, 0, 0, 0, 1, 0, 0],\n",
        "        [0, 0, 0, 0, 1, 0, 0, 0],\n",
        "        [0, 0, 0, 1, 0, 0, 0, 0],\n",
        "        [0, 0, 1, 0, 0, 0, 0, 0],\n",
        "        [0, 1, 1, 1, 1, 1, 1, 1],\n",
        "    ],\n",
        "    [\n",
        "        [0, 1, 1, 1, 1, 1, 1, 1],\n",
        "        [1, 0, 0, 0, 0, 0, 1, 0],\n",
        "        [0, 0, 0, 0, 1, 1, 0, 0],\n",
        "        [0, 0, 0, 0, 0, 0, 1, 0],\n",
        "        [0, 0, 0, 0, 0, 0, 0, 1],\n",
        "        [0, 0, 0, 0, 0, 0, 0, 1],\n",
        "        [1, 0, 0, 0, 0, 0, 1, 0],\n",
        "        [0, 1, 1, 1, 1, 1, 1, 0],\n",
        "    ],\n",
        "    [\n",
        "        [0, 0, 0, 0, 0, 0, 1, 0],\n",
        "        [0, 0, 0, 0, 1, 0, 1, 0],\n",
        "        [0, 0, 0, 1, 0, 0, 1, 0],\n",
        "        [0, 0, 1, 0, 0, 0, 1, 0],\n",
        "        [0, 1, 0, 0, 0, 0, 1, 0],\n",
        "        [1, 1, 1, 1, 1, 1, 1, 1],\n",
        "        [0, 0, 0, 0, 0, 0, 1, 0],\n",
        "        [0, 0, 0, 0, 0, 0, 1, 0],\n",
        "    ],\n",
        "    [\n",
        "        [0, 1, 1, 1, 1, 1, 1, 1],\n",
        "        [1, 0, 0, 0, 0, 0, 0, 0],\n",
        "        [1, 0, 0, 0, 0, 0, 0, 0],\n",
        "        [0, 1, 1, 1, 1, 1, 1, 0],\n",
        "        [0, 0, 0, 0, 0, 0, 0, 1],\n",
        "        [0, 0, 0, 0, 0, 0, 0, 1],\n",
        "        [0, 0, 0, 0, 0, 0, 1, 0],\n",
        "        [1, 1, 1, 1, 1, 1, 0, 0],\n",
        "    ],\n",
        "    [\n",
        "        [0, 0, 0, 0, 0, 1, 0, 0],\n",
        "        [0, 0, 0, 0, 1, 0, 0, 0],\n",
        "        [0, 0, 0, 1, 0, 0, 0, 0],\n",
        "        [0, 0, 1, 0, 0, 0, 0, 0],\n",
        "        [0, 1, 1, 1, 1, 1, 1, 0],\n",
        "        [1, 0, 0, 0, 0, 0, 0, 1],\n",
        "        [1, 0, 0, 0, 0, 0, 0, 1],\n",
        "        [0, 1, 1, 1, 1, 1, 1, 0],\n",
        "    ],\n",
        "    [\n",
        "        [1, 1, 1, 1, 1, 1, 1, 1],\n",
        "        [0, 0, 0, 0, 0, 0, 1, 0],\n",
        "        [0, 0, 0, 0, 0, 1, 0, 0],\n",
        "        [0, 0, 0, 0, 1, 0, 0, 0],\n",
        "        [0, 0, 0, 1, 0, 0, 0, 0],\n",
        "        [0, 0, 1, 0, 0, 0, 0, 0],\n",
        "        [0, 1, 0, 0, 0, 0, 0, 0],\n",
        "        [1, 0, 0, 0, 0, 0, 0, 0],\n",
        "    ],\n",
        "    [\n",
        "        [0, 1, 1, 1, 1, 1, 1, 0],\n",
        "        [1, 0, 0, 0, 0, 0, 0, 1],\n",
        "        [1, 0, 0, 0, 0, 0, 0, 1],\n",
        "        [0, 1, 1, 1, 1, 1, 1, 0],\n",
        "        [1, 0, 0, 0, 0, 0, 0, 1],\n",
        "        [1, 0, 0, 0, 0, 0, 0, 1],\n",
        "        [1, 0, 0, 0, 0, 0, 0, 1],\n",
        "        [0, 1, 1, 1, 1, 1, 1, 0],\n",
        "    ],\n",
        "    [\n",
        "        [0, 1, 1, 1, 1, 1, 1, 0],\n",
        "        [1, 0, 0, 0, 0, 0, 0, 1],\n",
        "        [1, 0, 0, 0, 0, 0, 0, 1],\n",
        "        [0, 1, 1, 1, 1, 1, 1, 0],\n",
        "        [0, 0, 0, 0, 0, 1, 0, 0],\n",
        "        [0, 0, 0, 0, 1, 0, 0, 0],\n",
        "        [0, 0, 0, 1, 0, 0, 0, 0],\n",
        "        [0, 0, 1, 0, 0, 0, 0, 0],\n",
        "    ],\n",
        "    [\n",
        "        [0, 0, 0, 1, 1, 0, 0, 0],\n",
        "        [0, 0, 1, 0, 0, 1, 0, 0],\n",
        "        [0, 1, 0, 0, 0, 0, 1, 0],\n",
        "        [0, 1, 0, 0, 0, 0, 1, 0],\n",
        "        [0, 1, 1, 1, 1, 1, 1, 0],\n",
        "        [0, 1, 0, 0, 0, 0, 1, 0],\n",
        "        [0, 1, 0, 0, 0, 0, 1, 0],\n",
        "        [0, 1, 0, 0, 0, 0, 1, 0],\n",
        "    ],\n",
        "    [\n",
        "        [1, 1, 1, 1, 1, 1, 0, 0],\n",
        "        [0, 1, 0, 0, 0, 0, 1, 0],\n",
        "        [0, 1, 0, 0, 0, 0, 1, 0],\n",
        "        [0, 1, 1, 1, 1, 1, 0, 0],\n",
        "        [0, 1, 1, 1, 1, 1, 0, 0],\n",
        "        [0, 1, 0, 0, 0, 0, 1, 0],\n",
        "        [0, 1, 0, 0, 0, 0, 1, 0],\n",
        "        [1, 1, 1, 1, 1, 1, 0, 0],\n",
        "    ],\n",
        "    [\n",
        "        [0, 1, 1, 1, 1, 1, 0, 0],\n",
        "        [1, 0, 0, 0, 0, 0, 1, 0],\n",
        "        [1, 0, 0, 0, 0, 0, 0, 0],\n",
        "        [1, 0, 0, 0, 0, 0, 0, 0],\n",
        "        [1, 0, 0, 0, 0, 0, 0, 0],\n",
        "        [1, 0, 0, 0, 0, 0, 0, 0],\n",
        "        [1, 0, 0, 0, 0, 0, 1, 0],\n",
        "        [0, 1, 1, 1, 1, 1, 0, 0],\n",
        "    ],\n",
        "    [\n",
        "        [1, 1, 1, 1, 1, 1, 0, 0],\n",
        "        [0, 1, 0, 0, 0, 0, 1, 0],\n",
        "        [0, 1, 0, 0, 0, 0, 1, 0],\n",
        "        [0, 1, 0, 0, 0, 0, 1, 0],\n",
        "        [0, 1, 0, 0, 0, 0, 1, 0],\n",
        "        [0, 1, 0, 0, 0, 0, 1, 0],\n",
        "        [0, 1, 0, 0, 0, 0, 1, 0],\n",
        "        [1, 1, 1, 1, 1, 1, 0, 0],\n",
        "    ],\n",
        "    [\n",
        "        [0, 1, 1, 1, 1, 1, 1, 0],\n",
        "        [0, 1, 0, 0, 0, 0, 0, 0],\n",
        "        [0, 1, 0, 0, 0, 0, 0, 0],\n",
        "        [0, 1, 1, 1, 1, 1, 0, 0],\n",
        "        [0, 1, 1, 1, 1, 1, 0, 0],\n",
        "        [0, 1, 0, 0, 0, 0, 0, 0],\n",
        "        [0, 1, 0, 0, 0, 0, 0, 0],\n",
        "        [0, 1, 1, 1, 1, 1, 1, 0],\n",
        "    ],\n",
        "    [\n",
        "        [0, 1, 1, 1, 1, 1, 1, 0],\n",
        "        [0, 1, 0, 0, 0, 0, 0, 0],\n",
        "        [0, 1, 0, 0, 0, 0, 0, 0],\n",
        "        [0, 1, 1, 1, 1, 1, 0, 0],\n",
        "        [0, 1, 0, 0, 0, 0, 0, 0],\n",
        "        [0, 1, 0, 0, 0, 0, 0, 0],\n",
        "        [0, 1, 0, 0, 0, 0, 0, 0],\n",
        "        [0, 1, 0, 0, 0, 0, 0, 0],\n",
        "    ],\n",
        "    [\n",
        "        [1, 1, 1, 1, 1, 1, 1, 1],\n",
        "        [1, 0, 0, 0, 0, 0, 1, 1],\n",
        "        [1, 0, 0, 0, 0, 0, 0, 1],\n",
        "        [1, 0, 0, 0, 0, 0, 0, 1],\n",
        "        [1, 0, 0, 0, 0, 0, 0, 1],\n",
        "        [1, 0, 0, 0, 0, 0, 0, 1],\n",
        "        [1, 1, 0, 0, 0, 0, 0, 1],\n",
        "        [1, 1, 1, 1, 1, 1, 1, 1],\n",
        "    ],\n",
        "    [\n",
        "        [0, 0, 0, 0, 1, 0, 0, 0],\n",
        "        [0, 0, 0, 1, 1, 0, 0, 0],\n",
        "        [0, 0, 1, 0, 1, 0, 0, 0],\n",
        "        [0, 1, 0, 0, 1, 0, 0, 0],\n",
        "        [0, 0, 0, 0, 1, 0, 0, 0],\n",
        "        [0, 0, 0, 0, 1, 0, 0, 0],\n",
        "        [0, 0, 0, 0, 1, 0, 0, 0],\n",
        "        [1, 1, 1, 1, 1, 1, 1, 0],\n",
        "    ],\n",
        "    [\n",
        "        [1, 1, 1, 1, 1, 1, 1, 0],\n",
        "        [1, 0, 0, 0, 0, 0, 1, 0],\n",
        "        [0, 0, 0, 0, 0, 0, 1, 0],\n",
        "        [0, 0, 0, 0, 0, 1, 0, 0],\n",
        "        [0, 0, 0, 0, 1, 0, 0, 0],\n",
        "        [0, 0, 0, 1, 0, 0, 0, 0],\n",
        "        [0, 0, 1, 0, 0, 0, 0, 0],\n",
        "        [1, 1, 1, 1, 1, 1, 1, 1],\n",
        "    ],\n",
        "    [\n",
        "        [0, 1, 1, 1, 1, 1, 1, 1],\n",
        "        [1, 0, 0, 0, 0, 0, 1, 0],\n",
        "        [0, 0, 0, 1, 1, 1, 0, 0],\n",
        "        [0, 0, 0, 0, 0, 0, 1, 0],\n",
        "        [0, 0, 0, 0, 0, 0, 0, 1],\n",
        "        [0, 0, 0, 0, 0, 0, 0, 1],\n",
        "        [1, 0, 0, 0, 0, 0, 1, 0],\n",
        "        [1, 1, 1, 1, 1, 1, 1, 0],\n",
        "    ],\n",
        "    [\n",
        "        [0, 0, 0, 0, 0, 1, 1, 0],\n",
        "        [0, 0, 0, 0, 1, 0, 1, 0],\n",
        "        [0, 0, 0, 1, 0, 0, 1, 0],\n",
        "        [0, 0, 1, 0, 0, 0, 1, 0],\n",
        "        [0, 1, 0, 0, 0, 0, 1, 0],\n",
        "        [1, 1, 1, 1, 1, 1, 1, 1],\n",
        "        [0, 0, 0, 0, 0, 0, 1, 1],\n",
        "        [0, 0, 0, 0, 0, 0, 1, 0],\n",
        "    ],\n",
        "    [\n",
        "        [1, 1, 1, 1, 1, 1, 1, 1],\n",
        "        [1, 0, 0, 0, 0, 0, 0, 0],\n",
        "        [1, 0, 0, 0, 0, 0, 0, 0],\n",
        "        [1, 1, 1, 1, 1, 1, 1, 0],\n",
        "        [0, 0, 0, 0, 0, 0, 0, 1],\n",
        "        [0, 0, 0, 0, 0, 0, 0, 1],\n",
        "        [0, 0, 0, 0, 0, 0, 1, 0],\n",
        "        [1, 1, 1, 1, 1, 1, 1, 0],\n",
        "    ],\n",
        "    [\n",
        "        [0, 0, 0, 0, 0, 1, 1, 1],\n",
        "        [0, 0, 0, 0, 1, 0, 0, 0],\n",
        "        [0, 0, 0, 1, 0, 0, 0, 0],\n",
        "        [0, 0, 1, 0, 0, 0, 0, 0],\n",
        "        [0, 1, 1, 1, 1, 1, 1, 0],\n",
        "        [1, 0, 0, 0, 0, 0, 0, 1],\n",
        "        [1, 0, 0, 0, 0, 0, 0, 1],\n",
        "        [1, 1, 1, 1, 1, 1, 1, 1],\n",
        "    ],\n",
        "    [\n",
        "        [1, 1, 1, 1, 1, 1, 1, 1],\n",
        "        [1, 0, 0, 0, 0, 0, 1, 1],\n",
        "        [0, 0, 0, 0, 0, 1, 0, 0],\n",
        "        [0, 0, 0, 0, 1, 0, 0, 0],\n",
        "        [0, 0, 0, 1, 0, 0, 0, 0],\n",
        "        [0, 0, 1, 0, 0, 0, 0, 0],\n",
        "        [0, 1, 0, 0, 0, 0, 0, 0],\n",
        "        [1, 1, 0, 0, 0, 0, 0, 0],\n",
        "    ],\n",
        "    [\n",
        "        [1, 1, 1, 1, 1, 1, 1, 1],\n",
        "        [1, 0, 0, 0, 0, 0, 0, 1],\n",
        "        [1, 0, 0, 0, 0, 0, 0, 1],\n",
        "        [1, 1, 1, 1, 1, 1, 1, 1],\n",
        "        [1, 0, 0, 0, 0, 0, 0, 1],\n",
        "        [1, 0, 0, 0, 0, 0, 0, 1],\n",
        "        [1, 0, 0, 0, 0, 0, 0, 1],\n",
        "        [1, 1, 1, 1, 1, 1, 1, 1],\n",
        "    ],\n",
        "    [\n",
        "        [1, 1, 1, 1, 1, 1, 1, 1],\n",
        "        [1, 0, 0, 0, 0, 0, 0, 1],\n",
        "        [1, 0, 0, 0, 0, 0, 0, 1],\n",
        "        [1, 1, 1, 1, 1, 1, 1, 1],\n",
        "        [0, 0, 0, 0, 0, 1, 0, 0],\n",
        "        [0, 0, 0, 0, 1, 0, 0, 0],\n",
        "        [0, 0, 0, 1, 0, 0, 0, 0],\n",
        "        [0, 1, 1, 0, 0, 0, 0, 0],\n",
        "    ],\n",
        "    [\n",
        "        [0, 0, 0, 1, 1, 0, 0, 0],\n",
        "        [0, 0, 1, 0, 0, 1, 0, 0],\n",
        "        [0, 1, 0, 0, 0, 0, 1, 0],\n",
        "        [0, 1, 0, 0, 0, 0, 1, 0],\n",
        "        [0, 1, 1, 1, 1, 1, 1, 0],\n",
        "        [0, 1, 1, 0, 0, 1, 1, 0],\n",
        "        [0, 1, 0, 0, 0, 0, 1, 0],\n",
        "        [0, 1, 0, 0, 0, 0, 1, 0],\n",
        "    ],\n",
        "    [\n",
        "        [0, 1, 1, 1, 1, 1, 0, 0],\n",
        "        [0, 1, 0, 0, 0, 0, 1, 0],\n",
        "        [0, 1, 0, 0, 0, 0, 1, 0],\n",
        "        [0, 1, 1, 1, 1, 1, 0, 0],\n",
        "        [0, 1, 1, 1, 1, 1, 0, 0],\n",
        "        [0, 1, 0, 0, 0, 0, 1, 0],\n",
        "        [0, 1, 0, 0, 0, 0, 1, 0],\n",
        "        [0, 1, 1, 1, 1, 1, 0, 0],\n",
        "    ],\n",
        "    [\n",
        "        [1, 1, 1, 1, 1, 1, 0, 0],\n",
        "        [1, 0, 0, 0, 0, 1, 1, 0],\n",
        "        [1, 0, 0, 0, 0, 0, 0, 0],\n",
        "        [1, 0, 0, 0, 0, 0, 0, 0],\n",
        "        [1, 0, 0, 0, 0, 0, 0, 0],\n",
        "        [1, 0, 0, 0, 0, 0, 0, 0],\n",
        "        [1, 0, 0, 0, 0, 1, 1, 0],\n",
        "        [1, 1, 1, 1, 1, 1, 0, 0],\n",
        "    ],\n",
        "    [\n",
        "        [0, 1, 1, 1, 1, 1, 0, 0],\n",
        "        [0, 1, 0, 0, 0, 0, 1, 0],\n",
        "        [0, 1, 0, 0, 0, 0, 1, 0],\n",
        "        [0, 1, 0, 0, 0, 0, 1, 0],\n",
        "        [0, 1, 0, 0, 0, 0, 1, 0],\n",
        "        [0, 1, 0, 0, 0, 0, 1, 0],\n",
        "        [0, 1, 0, 0, 0, 0, 1, 0],\n",
        "        [0, 1, 1, 1, 1, 1, 0, 0],\n",
        "    ],\n",
        "    [\n",
        "        [1, 1, 1, 1, 1, 1, 1, 0],\n",
        "        [0, 1, 0, 0, 0, 0, 0, 0],\n",
        "        [0, 1, 0, 0, 0, 0, 0, 0],\n",
        "        [0, 1, 1, 1, 1, 1, 0, 0],\n",
        "        [0, 1, 1, 1, 1, 1, 0, 0],\n",
        "        [0, 1, 0, 0, 0, 0, 0, 0],\n",
        "        [0, 1, 0, 0, 0, 0, 0, 0],\n",
        "        [1, 1, 1, 1, 1, 1, 1, 0],\n",
        "    ],\n",
        "    [\n",
        "        [1, 1, 1, 1, 1, 1, 1, 0],\n",
        "        [0, 1, 0, 0, 0, 0, 0, 0],\n",
        "        [0, 1, 0, 0, 0, 0, 0, 0],\n",
        "        [0, 1, 1, 1, 1, 1, 1, 0],\n",
        "        [0, 1, 0, 0, 0, 0, 0, 0],\n",
        "        [0, 1, 0, 0, 0, 0, 0, 0],\n",
        "        [0, 1, 0, 0, 0, 0, 0, 0],\n",
        "        [1, 1, 0, 0, 0, 0, 0, 0],\n",
        "    ],\n",
        "]\n",
        "\n",
        "Y = [\n",
        "    [0, 0, 0, 0],\n",
        "    [0, 0, 0, 1],\n",
        "    [0, 0, 1, 0],\n",
        "    [0, 0, 1, 1],\n",
        "    [0, 1, 0, 0],\n",
        "    [0, 1, 0, 1],\n",
        "    [0, 1, 1, 0],\n",
        "    [0, 1, 1, 1],\n",
        "    [1, 0, 0, 0],\n",
        "    [1, 0, 0, 1],\n",
        "    [1, 0, 1, 0],\n",
        "    [1, 0, 1, 1],\n",
        "    [1, 1, 0, 0],\n",
        "    [1, 1, 0, 1],\n",
        "    [1, 1, 1, 0],\n",
        "    [1, 1, 1, 1],\n",
        "    [0, 0, 0, 0],\n",
        "    [0, 0, 0, 1],\n",
        "    [0, 0, 1, 0],\n",
        "    [0, 0, 1, 1],\n",
        "    [0, 1, 0, 0],\n",
        "    [0, 1, 0, 1],\n",
        "    [0, 1, 1, 0],\n",
        "    [0, 1, 1, 1],\n",
        "    [1, 0, 0, 0],\n",
        "    [1, 0, 0, 1],\n",
        "    [1, 0, 1, 0],\n",
        "    [1, 0, 1, 1],\n",
        "    [1, 1, 0, 0],\n",
        "    [1, 1, 0, 1],\n",
        "    [1, 1, 1, 0],\n",
        "    [1, 1, 1, 1],\n",
        "]"
      ],
      "execution_count": 20,
      "outputs": []
    },
    {
      "cell_type": "code",
      "metadata": {
        "colab": {
          "base_uri": "https://localhost:8080/",
          "height": 1000
        },
        "id": "AhUG7XR5nqhr",
        "outputId": "14fb389e-90fc-4be2-8e08-f0336614b4b6"
      },
      "source": [
        "for i in range(16):\n",
        "    plot.imshow(X[i])\n",
        "    plot.show()"
      ],
      "execution_count": 21,
      "outputs": [
        {
          "output_type": "display_data",
          "data": {
            "image/png": "[encoded data removed]",
            "text/plain": [
              "<Figure size 432x288 with 1 Axes>"
            ]
          },
          "metadata": {
            "tags": [],
            "needs_background": "light"
          }
        },
        {
          "output_type": "display_data",
          "data": {
            "image/png": "[encoded data removed]",
            "text/plain": [
              "<Figure size 432x288 with 1 Axes>"
            ]
          },
          "metadata": {
            "tags": [],
            "needs_background": "light"
          }
        },
        {
          "output_type": "display_data",
          "data": {
            "image/png": "[encoded data removed]",
            "text/plain": [
              "<Figure size 432x288 with 1 Axes>"
            ]
          },
          "metadata": {
            "tags": [],
            "needs_background": "light"
          }
        },
        {
          "output_type": "display_data",
          "data": {
            "image/png": "[encoded data removed]",
            "text/plain": [
              "<Figure size 432x288 with 1 Axes>"
            ]
          },
          "metadata": {
            "tags": [],
            "needs_background": "light"
          }
        },
        {
          "output_type": "display_data",
          "data": {
            "image/png": "[encoded data removed]",
            "text/plain": [
              "<Figure size 432x288 with 1 Axes>"
            ]
          },
          "metadata": {
            "tags": [],
            "needs_background": "light"
          }
        },
        {
          "output_type": "display_data",
          "data": {
            "image/png": "[encoded data removed]",
            "text/plain": [
              "<Figure size 432x288 with 1 Axes>"
            ]
          },
          "metadata": {
            "tags": [],
            "needs_background": "light"
          }
        },
        {
          "output_type": "display_data",
          "data": {
            "image/png": "[encoded data removed]",
            "text/plain": [
              "<Figure size 432x288 with 1 Axes>"
            ]
          },
          "metadata": {
            "tags": [],
            "needs_background": "light"
          }
        },
        {
          "output_type": "display_data",
          "data": {
            "image/png": "[encoded data removed]",
            "text/plain": [
              "<Figure size 432x288 with 1 Axes>"
            ]
          },
          "metadata": {
            "tags": [],
            "needs_background": "light"
          }
        },
        {
          "output_type": "display_data",
          "data": {
            "image/png": "[encoded data removed]",
            "text/plain": [
              "<Figure size 432x288 with 1 Axes>"
            ]
          },
          "metadata": {
            "tags": [],
            "needs_background": "light"
          }
        },
        {
          "output_type": "display_data",
          "data": {
            "image/png": "[encoded data removed]",
            "text/plain": [
              "<Figure size 432x288 with 1 Axes>"
            ]
          },
          "metadata": {
            "tags": [],
            "needs_background": "light"
          }
        },
        {
          "output_type": "display_data",
          "data": {
            "image/png": "[encoded data removed]",
            "text/plain": [
              "<Figure size 432x288 with 1 Axes>"
            ]
          },
          "metadata": {
            "tags": [],
            "needs_background": "light"
          }
        },
        {
          "output_type": "display_data",
          "data": {
            "image/png": "[encoded data removed]",
            "text/plain": [
              "<Figure size 432x288 with 1 Axes>"
            ]
          },
          "metadata": {
            "tags": [],
            "needs_background": "light"
          }
        },
        {
          "output_type": "display_data",
          "data": {
            "image/png": "[encoded data removed]",
            "text/plain": [
              "<Figure size 432x288 with 1 Axes>"
            ]
          },
          "metadata": {
            "tags": [],
            "needs_background": "light"
          }
        },
        {
          "output_type": "display_data",
          "data": {
            "image/png": "[encoded data removed]",
            "text/plain": [
              "<Figure size 432x288 with 1 Axes>"
            ]
          },
          "metadata": {
            "tags": [],
            "needs_background": "light"
          }
        },
        {
          "output_type": "display_data",
          "data": {
            "image/png": "[encoded data removed]",
            "text/plain": [
              "<Figure size 432x288 with 1 Axes>"
            ]
          },
          "metadata": {
            "tags": [],
            "needs_background": "light"
          }
        },
        {
          "output_type": "display_data",
          "data": {
            "image/png": "[encoded data removed]",
            "text/plain": [
              "<Figure size 432x288 with 1 Axes>"
            ]
          },
          "metadata": {
            "tags": [],
            "needs_background": "light"
          }
        }
      ]
    },
    {
      "cell_type": "code",
      "metadata": {
        "colab": {
          "base_uri": "https://localhost:8080/"
        },
        "id": "ID4kr-HInqht",
        "outputId": "4b7db50d-9b9b-4a20-a0d4-efe1cd7375cd"
      },
      "source": [
        "epochs = 1200\n",
        "nn = NeuralNetwork(structure=[64, 16, 16, 4], activations=['sig', 'sig', 'sig'])"
      ],
      "execution_count": 22,
      "outputs": [
        {
          "output_type": "stream",
          "text": [
            "layer 0 : W = (16, 64) B = (16, 1)\n",
            "layer 1 : W = (16, 16) B = (16, 1)\n",
            "layer 2 : W = (4, 16) B = (4, 1)\n"
          ],
          "name": "stdout"
        }
      ]
    },
    {
      "cell_type": "code",
      "metadata": {
        "colab": {
          "base_uri": "https://localhost:8080/"
        },
        "id": "nT83AQT1nqhu",
        "outputId": "b8bc7249-b36d-4e36-9fc5-92e43cc4c44d"
      },
      "source": [
        "loss = nn.learn(X, Y, epochs=epochs, learning_rate=0.05)"
      ],
      "execution_count": 23,
      "outputs": [
        {
          "output_type": "stream",
          "text": [
            "epoch 10 - loss = 1.003504408107192\n",
            "epoch 20 - loss = 0.989061211435985\n",
            "epoch 30 - loss = 0.9627866623353455\n",
            "epoch 40 - loss = 0.9130107979285973\n",
            "epoch 50 - loss = 0.8385241263595484\n",
            "epoch 60 - loss = 0.7589989922638303\n",
            "epoch 70 - loss = 0.6817005483481258\n",
            "epoch 80 - loss = 0.6006755448043763\n",
            "epoch 90 - loss = 0.5195386000073988\n",
            "epoch 100 - loss = 0.4465993392873626\n",
            "epoch 110 - loss = 0.38472694460638684\n",
            "epoch 120 - loss = 0.3336978741557942\n",
            "epoch 130 - loss = 0.2924105769604714\n",
            "epoch 140 - loss = 0.2593308075573468\n",
            "epoch 150 - loss = 0.2328592366364437\n",
            "epoch 160 - loss = 0.21154107030832686\n",
            "epoch 170 - loss = 0.1941706273929888\n",
            "epoch 180 - loss = 0.17981444924291956\n",
            "epoch 190 - loss = 0.16777631917972344\n",
            "epoch 200 - loss = 0.1575433587420914\n",
            "epoch 210 - loss = 0.14873674492701558\n",
            "epoch 220 - loss = 0.14107379062842873\n",
            "epoch 230 - loss = 0.13434068654698023\n",
            "epoch 240 - loss = 0.12837337170860763\n",
            "epoch 250 - loss = 0.12304415604204902\n",
            "epoch 260 - loss = 0.11825230674515103\n",
            "epoch 270 - loss = 0.11391735165107664\n",
            "epoch 280 - loss = 0.10997425393247587\n",
            "epoch 290 - loss = 0.10636988823985397\n",
            "epoch 300 - loss = 0.1030604327995129\n",
            "epoch 310 - loss = 0.10000941447095835\n",
            "epoch 320 - loss = 0.09718622532253361\n",
            "epoch 330 - loss = 0.09456498402149316\n",
            "epoch 340 - loss = 0.0921236524526357\n",
            "epoch 350 - loss = 0.08984334344088657\n",
            "epoch 360 - loss = 0.0877077731280688\n",
            "epoch 370 - loss = 0.08570282397077184\n",
            "epoch 380 - loss = 0.0838161931512095\n",
            "epoch 390 - loss = 0.08203710753617614\n",
            "epoch 400 - loss = 0.08035609092800514\n",
            "epoch 410 - loss = 0.07876477273465814\n",
            "epoch 420 - loss = 0.0772557296940324\n",
            "epoch 430 - loss = 0.07582235416402704\n",
            "epoch 440 - loss = 0.07445874390628443\n",
            "epoch 450 - loss = 0.073159609369574\n",
            "epoch 460 - loss = 0.07192019530584293\n",
            "epoch 470 - loss = 0.07073621419123291\n",
            "epoch 480 - loss = 0.06960378942201888\n",
            "epoch 490 - loss = 0.06851940664546444\n",
            "epoch 500 - loss = 0.06747987189325197\n",
            "epoch 510 - loss = 0.06648227542931218\n",
            "epoch 520 - loss = 0.06552396041879145\n",
            "epoch 530 - loss = 0.06460249568134578\n",
            "epoch 540 - loss = 0.06371565191820036\n",
            "epoch 550 - loss = 0.06286138090480489\n",
            "epoch 560 - loss = 0.06203779722435519\n",
            "epoch 570 - loss = 0.06124316218576757\n",
            "epoch 580 - loss = 0.06047586962586886\n",
            "epoch 590 - loss = 0.059734433341953774\n",
            "epoch 600 - loss = 0.059017475939326935\n",
            "epoch 610 - loss = 0.05832371891046342\n",
            "epoch 620 - loss = 0.05765197378917104\n",
            "epoch 630 - loss = 0.05700113424556827\n",
            "epoch 640 - loss = 0.056370169006559404\n",
            "epoch 650 - loss = 0.055758115502423655\n",
            "epoch 660 - loss = 0.05516407415362265\n",
            "epoch 670 - loss = 0.05458720322339262\n",
            "epoch 680 - loss = 0.05402671417145241\n",
            "epoch 690 - loss = 0.05348186745249969\n",
            "epoch 700 - loss = 0.052951968710317834\n",
            "epoch 710 - loss = 0.05243636532445642\n",
            "epoch 720 - loss = 0.05193444327173692\n",
            "epoch 730 - loss = 0.05144562426940376\n",
            "epoch 740 - loss = 0.05096936317069267\n",
            "epoch 750 - loss = 0.050505145587018824\n",
            "epoch 760 - loss = 0.05005248571396889\n",
            "epoch 770 - loss = 0.049610924340879416\n",
            "epoch 780 - loss = 0.04918002702605491\n",
            "epoch 790 - loss = 0.04875938242166314\n",
            "epoch 800 - loss = 0.04834860073408841\n",
            "epoch 810 - loss = 0.047947312307051446\n",
            "epoch 820 - loss = 0.047555166316153155\n",
            "epoch 830 - loss = 0.04717182956468571\n",
            "epoch 840 - loss = 0.046796985371604025\n",
            "epoch 850 - loss = 0.04643033254347863\n",
            "epoch 860 - loss = 0.04607158442307401\n",
            "epoch 870 - loss = 0.04572046800792722\n",
            "epoch 880 - loss = 0.045376723132950596\n",
            "epoch 890 - loss = 0.04504010171166199\n",
            "epoch 900 - loss = 0.04471036703116145\n",
            "epoch 910 - loss = 0.044387293096433994\n",
            "epoch 920 - loss = 0.04407066401997256\n",
            "epoch 930 - loss = 0.04376027345308142\n",
            "epoch 940 - loss = 0.04345592405555594\n",
            "epoch 950 - loss = 0.04315742700072816\n",
            "epoch 960 - loss = 0.042864601513139255\n",
            "epoch 970 - loss = 0.04257727443633874\n",
            "epoch 980 - loss = 0.04229527982852852\n",
            "epoch 990 - loss = 0.04201845858396623\n",
            "epoch 1000 - loss = 0.04174665807822063\n",
            "epoch 1010 - loss = 0.041479731835530505\n",
            "epoch 1020 - loss = 0.041217539216666495\n",
            "epoch 1030 - loss = 0.04095994512582442\n",
            "epoch 1040 - loss = 0.04070681973520199\n",
            "epoch 1050 - loss = 0.040458038226015534\n",
            "epoch 1060 - loss = 0.040213480544816854\n",
            "epoch 1070 - loss = 0.03997303117405639\n",
            "epoch 1080 - loss = 0.039736578915924525\n",
            "epoch 1090 - loss = 0.03950401668857602\n",
            "epoch 1100 - loss = 0.039275241333911526\n",
            "epoch 1110 - loss = 0.03905015343615284\n",
            "epoch 1120 - loss = 0.03882865715050679\n",
            "epoch 1130 - loss = 0.03861066004126323\n",
            "epoch 1140 - loss = 0.03839607292872306\n",
            "epoch 1150 - loss = 0.038184809744394685\n",
            "epoch 1160 - loss = 0.03797678739393864\n",
            "epoch 1170 - loss = 0.037771925627377585\n",
            "epoch 1180 - loss = 0.03757014691612208\n",
            "epoch 1190 - loss = 0.0373713763363961\n",
            "epoch 1200 - loss = 0.037175541458673016\n",
            "final loss : 0.037175541458673016\n"
          ],
          "name": "stdout"
        }
      ]
    },
    {
      "cell_type": "code",
      "metadata": {
        "colab": {
          "base_uri": "https://localhost:8080/",
          "height": 265
        },
        "id": "hM5YCFubnqhw",
        "outputId": "61c18a1d-63f4-4db8-c7ca-3a6d3f3eccaf"
      },
      "source": [
        "plt.scatter([i for i in range(0, epochs)], loss)\n",
        "plt.show()"
      ],
      "execution_count": 24,
      "outputs": [
        {
          "output_type": "display_data",
          "data": {
            "image/png": "[encoded data removed]",
            "text/plain": [
              "<Figure size 432x288 with 1 Axes>"
            ]
          },
          "metadata": {
            "tags": [],
            "needs_background": "light"
          }
        }
      ]
    },
    {
      "cell_type": "code",
      "metadata": {
        "colab": {
          "base_uri": "https://localhost:8080/",
          "height": 401
        },
        "id": "Hg2IjQSBnqhx",
        "outputId": "7adfc94c-87f1-4ca8-d206-04fe4cca248c"
      },
      "source": [
        "xx = [\n",
        "    [0, 0, 0, 1, 1, 0, 0, 0],\n",
        "    [0, 1, 1, 0, 0, 1, 0, 0],\n",
        "    [0, 1, 0, 0, 0, 0, 1, 0],\n",
        "    [0, 1, 0, 0, 0, 0, 1, 0],\n",
        "    [0, 1, 1, 1, 1, 1, 1, 0],\n",
        "    [0, 1, 0, 0, 0, 0, 1, 0],\n",
        "    [0, 1, 0, 0, 0, 0, 1, 0],\n",
        "    [0, 1, 1, 0, 0, 0, 1, 1],\n",
        "]\n",
        "\n",
        "plot.imshow(xx) \n",
        "plot.show()\n",
        "\n",
        "yy = [1, 0, 1, 0]\n",
        "a = nn.predict(xx)\n",
        "print(a)\n",
        "print(np.around(a, 1))"
      ],
      "execution_count": 25,
      "outputs": [
        {
          "output_type": "display_data",
          "data": {
            "image/png": "[encoded data removed]",
            "text/plain": [
              "<Figure size 432x288 with 1 Axes>"
            ]
          },
          "metadata": {
            "tags": [],
            "needs_background": "light"
          }
        },
        {
          "output_type": "stream",
          "text": [
            "[[0.99809   ]\n",
            " [0.01600798]\n",
            " [0.98351324]\n",
            " [0.04083833]]\n",
            "[[1.]\n",
            " [0.]\n",
            " [1.]\n",
            " [0.]]\n"
          ],
          "name": "stdout"
        }
      ]
    },
    {
      "cell_type": "code",
      "metadata": {
        "colab": {
          "base_uri": "https://localhost:8080/",
          "height": 401
        },
        "id": "lbUrFSY7nqhy",
        "outputId": "9501bbcd-e3b3-4b25-fb49-a681bf51c036"
      },
      "source": [
        "xx = [\n",
        "    [0, 0, 0, 0, 1, 0, 0, 0],\n",
        "    [0, 0, 0, 1, 1, 0, 0, 0],\n",
        "    [0, 1, 1, 0, 1, 0, 0, 0],\n",
        "    [0, 0, 1, 0, 1, 0, 0, 0],\n",
        "    [0, 0, 0, 0, 1, 0, 0, 0],\n",
        "    [0, 0, 0, 0, 1, 1, 1, 0],\n",
        "    [0, 0, 0, 0, 1, 0, 0, 0],\n",
        "    [1, 1, 1, 1, 1, 1, 1, 0],\n",
        "]\n",
        "\n",
        "plot.imshow(xx)\n",
        "plot.show()\n",
        "\n",
        "yy = [0, 0, 0, 1]\n",
        "a = nn.predict(xx)\n",
        "print(a)\n",
        "print(np.around(a, 1))"
      ],
      "execution_count": 26,
      "outputs": [
        {
          "output_type": "display_data",
          "data": {
            "image/png": "[encoded data removed]",
            "text/plain": [
              "<Figure size 432x288 with 1 Axes>"
            ]
          },
          "metadata": {
            "tags": [],
            "needs_background": "light"
          }
        },
        {
          "output_type": "stream",
          "text": [
            "[[0.02970561]\n",
            " [0.01759955]\n",
            " [0.00820292]\n",
            " [0.99064665]]\n",
            "[[0.]\n",
            " [0.]\n",
            " [0.]\n",
            " [1.]]\n"
          ],
          "name": "stdout"
        }
      ]
    },
    {
      "cell_type": "code",
      "metadata": {
        "colab": {
          "base_uri": "https://localhost:8080/",
          "height": 401
        },
        "id": "-M5CNphdnqh0",
        "outputId": "e43c087e-54be-4772-e34a-d09161a58b80"
      },
      "source": [
        "xx = [\n",
        "    [1, 1, 1, 1, 1, 1, 1, 0],\n",
        "    [0, 1, 1, 0, 0, 0, 0, 0],\n",
        "    [0, 1, 0, 0, 0, 0, 0, 0],\n",
        "    [0, 1, 1, 1, 1, 1, 0, 0],\n",
        "    [0, 1, 0, 0, 0, 0, 0, 0],\n",
        "    [0, 1, 0, 0, 0, 0, 0, 0],\n",
        "    [0, 1, 0, 0, 0, 0, 0, 0],\n",
        "    [1, 1, 1, 0, 0, 0, 0, 0],\n",
        "]\n",
        "\n",
        "plot.imshow(xx)\n",
        "plot.show()\n",
        "\n",
        "yy = [1, 1, 1, 1]\n",
        "a = nn.predict(xx)\n",
        "print(a)\n",
        "print(np.around(a, 1))"
      ],
      "execution_count": 27,
      "outputs": [
        {
          "output_type": "display_data",
          "data": {
            "image/png": "[encoded data removed]",
            "text/plain": [
              "<Figure size 432x288 with 1 Axes>"
            ]
          },
          "metadata": {
            "tags": [],
            "needs_background": "light"
          }
        },
        {
          "output_type": "stream",
          "text": [
            "[[0.98313868]\n",
            " [0.98342004]\n",
            " [0.96794646]\n",
            " [0.97064362]]\n",
            "[[1.]\n",
            " [1.]\n",
            " [1.]\n",
            " [1.]]\n"
          ],
          "name": "stdout"
        }
      ]
    },
    {
      "cell_type": "code",
      "metadata": {
        "colab": {
          "base_uri": "https://localhost:8080/",
          "height": 401
        },
        "id": "kkH26pr0nqh1",
        "outputId": "c61b7c77-c747-463a-ddba-ceaac917a978"
      },
      "source": [
        "xx = [\n",
        "    [1, 1, 1, 1, 1, 1, 1, 0],\n",
        "    [1, 0, 0, 0, 0, 0, 0, 1],\n",
        "    [1, 0, 0, 0, 0, 0, 0, 1],\n",
        "    [0, 1, 1, 1, 1, 1, 1, 0],\n",
        "    [1, 0, 0, 0, 0, 0, 0, 1],\n",
        "    [1, 0, 0, 0, 0, 0, 0, 1],\n",
        "    [1, 1, 0, 0, 0, 0, 0, 1],\n",
        "    [0, 1, 1, 1, 1, 1, 1, 1],\n",
        "]\n",
        "\n",
        "plot.imshow(xx)\n",
        "plot.show()\n",
        "\n",
        "yy = [1, 0, 0, 0]\n",
        "a = nn.predict(xx)\n",
        "print(a)\n",
        "print(np.around(a, 1))"
      ],
      "execution_count": 28,
      "outputs": [
        {
          "output_type": "display_data",
          "data": {
            "image/png": "[encoded data removed]",
            "text/plain": [
              "<Figure size 432x288 with 1 Axes>"
            ]
          },
          "metadata": {
            "tags": [],
            "needs_background": "light"
          }
        },
        {
          "output_type": "stream",
          "text": [
            "[[0.99179967]\n",
            " [0.0144877 ]\n",
            " [0.01357141]\n",
            " [0.01649683]]\n",
            "[[1.]\n",
            " [0.]\n",
            " [0.]\n",
            " [0.]]\n"
          ],
          "name": "stdout"
        }
      ]
    },
    {
      "cell_type": "markdown",
      "metadata": {
        "id": "crRL5uOrnqh2"
      },
      "source": [
        "### Example 2: Cos(x)"
      ]
    },
    {
      "cell_type": "code",
      "metadata": {
        "id": "IpylA3Pvnqh3"
      },
      "source": [
        "x = np.random.uniform(low=-2 * np.pi, high=2 * np.pi, size=(10000,))\n",
        "y = np.cos(x)\n",
        "x = np.reshape(x, (-1, 1)).tolist()\n",
        "y = np.reshape(y, (-1, 1)).tolist()"
      ],
      "execution_count": 12,
      "outputs": []
    },
    {
      "cell_type": "code",
      "metadata": {
        "colab": {
          "base_uri": "https://localhost:8080/"
        },
        "id": "8VNNmRFNnqh4",
        "outputId": "05af9652-2ccf-43b7-dbf0-50241da7e9ae"
      },
      "source": [
        "epochs = 50\n",
        "nn = NeuralNetwork(structure=[1, 100, 100, 1], activations=['sig', 'sig', 'tanh'])"
      ],
      "execution_count": 13,
      "outputs": [
        {
          "output_type": "stream",
          "text": [
            "layer 0 : W = (100, 1) B = (100, 1)\n",
            "layer 1 : W = (100, 100) B = (100, 1)\n",
            "layer 2 : W = (1, 100) B = (1, 1)\n"
          ],
          "name": "stdout"
        }
      ]
    },
    {
      "cell_type": "code",
      "metadata": {
        "colab": {
          "base_uri": "https://localhost:8080/"
        },
        "id": "ga9m1Sn1nqh5",
        "outputId": "ed9ad1c8-6f1b-4737-fa26-b7f683fadfa9"
      },
      "source": [
        "loss = nn.learn(x, y, epochs=epochs, learning_rate=0.05)"
      ],
      "execution_count": 14,
      "outputs": [
        {
          "output_type": "stream",
          "text": [
            "epoch 10 - loss = 0.0800030734818578\n",
            "epoch 20 - loss = 0.056175887761253714\n",
            "epoch 30 - loss = 0.04766677765015809\n",
            "epoch 40 - loss = 0.04189038705688323\n",
            "epoch 50 - loss = 0.030691046767315884\n",
            "final loss : 0.030691046767315884\n"
          ],
          "name": "stdout"
        }
      ]
    },
    {
      "cell_type": "code",
      "metadata": {
        "id": "uJYYufAYnqh6",
        "colab": {
          "base_uri": "https://localhost:8080/",
          "height": 265
        },
        "outputId": "b650b40d-3ba1-4be2-dece-a68494f53067"
      },
      "source": [
        "plt.scatter([i for i in range(0, epochs)], loss)\n",
        "plt.show()"
      ],
      "execution_count": 15,
      "outputs": [
        {
          "output_type": "display_data",
          "data": {
            "image/png": "[encoded data removed]",
            "text/plain": [
              "<Figure size 432x288 with 1 Axes>"
            ]
          },
          "metadata": {
            "tags": [],
            "needs_background": "light"
          }
        }
      ]
    },
    {
      "cell_type": "code",
      "metadata": {
        "id": "iQSbq7onnqh7"
      },
      "source": [
        "x = np.random.uniform(low=0, high=2 * np.pi, size=(1000,))\n",
        "y = np.cos(x)\n",
        "x = np.reshape(x, (-1, 1)).tolist()\n",
        "y = np.reshape(y, (-1, 1)).tolist()\n",
        "outs = []\n",
        "for xx in x:\n",
        "    outs.append(nn.predict(xx))"
      ],
      "execution_count": 16,
      "outputs": []
    },
    {
      "cell_type": "code",
      "metadata": {
        "id": "JAkbfhsNnqh7",
        "colab": {
          "base_uri": "https://localhost:8080/",
          "height": 265
        },
        "outputId": "471c54c0-2249-4bbe-ef8c-32994f224f1b"
      },
      "source": [
        "plt.scatter(x, y)\n",
        "plt.scatter(x, outs)\n",
        "plt.show()"
      ],
      "execution_count": 17,
      "outputs": [
        {
          "output_type": "display_data",
          "data": {
            "image/png": "[encoded data removed]",
            "text/plain": [
              "<Figure size 432x288 with 1 Axes>"
            ]
          },
          "metadata": {
            "tags": [],
            "needs_background": "light"
          }
        }
      ]
    }
  ]
}